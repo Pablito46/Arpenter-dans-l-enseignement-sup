{
 "cells": [
  {
   "cell_type": "markdown",
   "id": "1dbb2773",
   "metadata": {},
   "source": [
    "# Import Required Libraries\n",
    "Import pandas, random, json, and os libraries."
   ]
  },
  {
   "cell_type": "code",
   "execution_count": null,
   "id": "c511406a",
   "metadata": {},
   "outputs": [],
   "source": [
    "# Import Required Libraries\n",
    "import pandas as pd\n",
    "import random\n",
    "import json\n",
    "import os"
   ]
  },
  {
   "cell_type": "markdown",
   "id": "964239c7",
   "metadata": {},
   "source": [
    "# Pre-Execution Questions\n",
    "Define a function to ask the user pre-execution questions and validate their responses."
   ]
  },
  {
   "cell_type": "code",
   "execution_count": null,
   "id": "01a79de8",
   "metadata": {},
   "outputs": [],
   "source": [
    "# Étape de vérification avant exécution\n",
    "def pre_execution_questions():\n",
    "    \"\"\"\n",
    "    Pose des questions à l'utilisateur pour vérifier certains points avant l'exécution du code principal.\n",
    "    \"\"\"\n",
    "    print(\"Avant de commencer, vérifiez les points suivants :\")\n",
    "    \n",
    "    # Liste de questions à poser\n",
    "    questions = [\n",
    "        \"L'appel a-t-il été fait sur la feuille correspondante (Classeur_étudiants.xlsx) ? (oui/non) \",\n",
    "        \"La bonne semaine est-elle renseignée dans le code ? (oui/non) \",\n",
    "    ]\n",
    "\n",
    "    # Vérifier les réponses\n",
    "    for question in questions:\n",
    "        response = input(question).strip().lower()\n",
    "        while response not in [\"oui\", \"non\"]:\n",
    "            print(\"Veuillez répondre par 'oui' ou 'non'.\")\n",
    "            response = input(question).strip().lower()\n",
    "        if response == \"non\":\n",
    "            print(\"Veuillez corriger ce point avant de lancer le script.\")\n",
    "            exit(\"Exécution interrompue par l'utilisateur.\")  # Stoppe l'exécution si une réponse est 'non'\n",
    "\n",
    "    print(\"Vérifications terminées. Le script va maintenant s'exécuter.\")\n",
    "\n",
    "\n",
    "pre_execution_questions()"
   ]
  },
  {
   "cell_type": "markdown",
   "id": "43ca8582",
   "metadata": {},
   "source": [
    "# Load Students from Excel\n",
    "Define a function to load students from an Excel sheet, filter eligible students, and randomly select a subset."
   ]
  },
  {
   "cell_type": "code",
   "execution_count": null,
   "id": "dc99fa18",
   "metadata": {},
   "outputs": [],
   "source": [
    "def load_students_from_excel(file_path, sheet_name, already_selected=None, presence_column=\"SEMAINE 4\"):\n",
    "    \"\"\"\n",
    "    Charge les étudiants d'une feuille spécifique dans un fichier Excel, sélectionne un tiers\n",
    "    aléatoire d'étudiants sans répétition et en prenant en compte leur présence.\n",
    "\n",
    "    Args:\n",
    "        file_path (str): Chemin du fichier Excel.\n",
    "        sheet_name (str): Nom de la feuille à traiter.\n",
    "        already_selected (set): Ensemble des étudiants déjà sélectionnés.\n",
    "        presence_column (str): Nom de la colonne indiquant la présence.\n",
    "\n",
    "    Returns:\n",
    "        list: Liste des étudiants sélectionnés.\n",
    "        set: Ensemble mis à jour des étudiants déjà sélectionnés.\n",
    "    \"\"\"\n",
    "    if already_selected is None:\n",
    "        already_selected = set()\n",
    "\n",
    "    # Charger la feuille spécifique\n",
    "    df = pd.read_excel(file_path, sheet_name=sheet_name)\n",
    "    \n",
    "    # Vérifier que les colonnes nécessaires existent\n",
    "    required_columns = [\"NOM\", \"PRÉNOM\", presence_column]\n",
    "    if not all(col in df.columns for col in required_columns):\n",
    "        raise ValueError(f\"La feuille {sheet_name} doit contenir les colonnes {required_columns}.\")\n",
    "    \n",
    "    # Combiner NOM et PRÉNOM pour former une identité unique\n",
    "    df['IDENTITÉ'] = df['PRÉNOM'] + ' ' + df['NOM']\n",
    "    \n",
    "    # Filtrer les étudiants éligibles : présents et non encore sélectionnés\n",
    "    eligible_students = df[\n",
    "        (df[presence_column] == \"Présent\") & \n",
    "        (~df['IDENTITÉ'].isin(already_selected))\n",
    "    ]\n",
    "    \n",
    "    # Calculer un tiers des étudiants éligibles\n",
    "    num_to_select = max(1, len(df[df[presence_column] == \"Présent\"]) // 3)  # Au moins 1 étudiant si possible\n",
    "    \n",
    "    # Sélectionner aléatoirement un tiers des étudiants\n",
    "    if num_to_select > 0:\n",
    "        selected_students = eligible_students.sample(n=num_to_select, random_state=random.randint(1, 1000))\n",
    "        \n",
    "        # Ajouter les étudiants sélectionnés à l'ensemble\n",
    "        already_selected.update(selected_students['IDENTITÉ'])\n",
    "        \n",
    "        # Retourner la liste des étudiants sélectionnés\n",
    "        return selected_students['IDENTITÉ'].tolist(), already_selected\n",
    "    else:\n",
    "        return [], already_selected"
   ]
  },
  {
   "cell_type": "markdown",
   "id": "1244eb17",
   "metadata": {},
   "source": [
    "# Load and Save History\n",
    "Define functions to load and save the history of selected students using JSON files."
   ]
  },
  {
   "cell_type": "code",
   "execution_count": null,
   "id": "ca725ce0",
   "metadata": {},
   "outputs": [],
   "source": [
    "def load_history(history_file):\n",
    "    \"\"\"\n",
    "    Charge l'historique des étudiants sélectionnés depuis un fichier JSON.\n",
    "\n",
    "    Args:\n",
    "        history_file (str): Chemin du fichier d'historique.\n",
    "\n",
    "    Returns:\n",
    "        set: Ensemble des étudiants déjà sélectionnés.\n",
    "    \"\"\"\n",
    "    if os.path.exists(history_file):\n",
    "        with open(history_file, \"r\") as file:\n",
    "            return set(json.load(file))  # Charger et convertir en ensemble\n",
    "    return set()\n",
    "\n",
    "\n",
    "def save_history(history, history_file):\n",
    "    \"\"\"\n",
    "    Sauvegarde l'historique des étudiants sélectionnés dans un fichier JSON.\n",
    "\n",
    "    Args:\n",
    "        history (set): Ensemble des étudiants sélectionnés.\n",
    "        history_file (str): Chemin du fichier d'historique.\n",
    "    \"\"\"\n",
    "    with open(history_file, \"w\") as file:\n",
    "        json.dump(list(history), file)  # Convertir en liste pour JSON"
   ]
  },
  {
   "cell_type": "markdown",
   "id": "221337c2",
   "metadata": {},
   "source": [
    "# Main Execution\n",
    "Combine all the defined functions to execute the main logic, including loading data, selecting students, and saving the updated history."
   ]
  },
  {
   "cell_type": "code",
   "execution_count": null,
   "id": "d991fdcd",
   "metadata": {},
   "outputs": [],
   "source": [
    "# Charger les données des étudiants\n",
    "excel_file = \"Classeur_étudiants.xlsx\"  # Remplacez par le chemin de votre fichier Excel\n",
    "presence_column = \"SEMAINE 4\"  # Nom de la colonne indiquant la présence\n",
    "history_file = \"historique_exam_G04.json\"  # Fichier pour sauvegarder l'historique\n",
    "\n",
    "# Charger l'historique des étudiants sélectionnés\n",
    "already_selected_students = load_history(history_file)\n",
    "\n",
    "# Spécifiez la feuille à traiter\n",
    "sheet_name = \"G04\"\n",
    "\n",
    "# Sélectionner les étudiants pour la feuille choisie\n",
    "try:\n",
    "    selected_students, already_selected_students = load_students_from_excel(\n",
    "        excel_file, sheet_name, already_selected_students, presence_column\n",
    "    )\n",
    "\n",
    "    # Sauvegarder l'historique mis à jour\n",
    "    save_history(already_selected_students, history_file)\n",
    "\n",
    "    # Afficher les résultats\n",
    "    print(f\"Étudiants sélectionnés pour la feuille {sheet_name} : {selected_students}\")\n",
    "\n",
    "except ValueError as e:\n",
    "    print(\"Erreur :\", e)\n",
    "except FileNotFoundError:\n",
    "    print(f\"Erreur : Le fichier Excel {excel_file} est introuvable.\")"
   ]
  }
 ],
 "metadata": {
  "language_info": {
   "name": "python"
  }
 },
 "nbformat": 4,
 "nbformat_minor": 5
}
